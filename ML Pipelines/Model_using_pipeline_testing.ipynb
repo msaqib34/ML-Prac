{
  "nbformat": 4,
  "nbformat_minor": 0,
  "metadata": {
    "colab": {
      "provenance": []
    },
    "kernelspec": {
      "name": "python3",
      "display_name": "Python 3"
    },
    "language_info": {
      "name": "python"
    }
  },
  "cells": [
    {
      "cell_type": "code",
      "execution_count": 3,
      "metadata": {
        "id": "XMKDsEyrKZQp"
      },
      "outputs": [],
      "source": [
        "import numpy as  np\n",
        "import pickle"
      ]
    },
    {
      "cell_type": "code",
      "source": [
        "# prompt: read pickle file\n",
        "\n",
        "with open('/content/pipe.pkl', 'rb') as f:\n",
        "  data = pickle.load(f)\n"
      ],
      "metadata": {
        "id": "IitdyM1BKsoa"
      },
      "execution_count": 5,
      "outputs": []
    },
    {
      "cell_type": "code",
      "source": [
        "input=np.array([1, 'female',38.0, 0, 0, 71.5, 'C'],dtype=object).reshape(1,7)"
      ],
      "metadata": {
        "id": "OvsM5WB7LBFB"
      },
      "execution_count": 23,
      "outputs": []
    },
    {
      "cell_type": "code",
      "source": [
        "data.predict(input)"
      ],
      "metadata": {
        "colab": {
          "base_uri": "https://localhost:8080/"
        },
        "id": "ivUr-XERLNFg",
        "outputId": "5a1809d6-abc8-43e0-edb1-ddc886ab58d4"
      },
      "execution_count": 24,
      "outputs": [
        {
          "output_type": "stream",
          "name": "stderr",
          "text": [
            "/usr/local/lib/python3.10/dist-packages/sklearn/base.py:439: UserWarning: X does not have valid feature names, but SimpleImputer was fitted with feature names\n",
            "  warnings.warn(\n",
            "/usr/local/lib/python3.10/dist-packages/sklearn/base.py:439: UserWarning: X does not have valid feature names, but SimpleImputer was fitted with feature names\n",
            "  warnings.warn(\n"
          ]
        },
        {
          "output_type": "execute_result",
          "data": {
            "text/plain": [
              "array([1])"
            ]
          },
          "metadata": {},
          "execution_count": 24
        }
      ]
    }
  ]
}